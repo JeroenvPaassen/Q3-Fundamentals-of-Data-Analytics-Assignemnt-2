{
 "cells": [
  {
   "cell_type": "markdown",
   "metadata": {},
   "source": [
    "# TI3130: Python Basics Lab\n",
    "\n",
    "November 2020\n",
    "\n",
    "This lab will provide some refreshers about the basics of Python. This notebook contains a series of exercises you can work on to get up to speed with Python. **These exercises will not be graded in any way**.\n",
    "\n",
    "Prior to working on this lab, you should have a working installation of [Python 3](https://docs.python.org/3/tutorial/index.html) and [Jupyter](https://jupyter-notebook.readthedocs.io/en/stable/). We advice you to first download and install Conda, the package manager. Visit the [conda website](https://conda.io/projects/conda/en/latest/user-guide/install/index.html) and choose either Anaconda or Miniconda (read about the differences [here](https://conda.io/projects/conda/en/latest/user-guide/install/download.html)). Follow the regular installation steps for your operating system. Python is 3.8, is included with both Anaconda3 and Miniconda3.\n",
    "\n",
    "If you choose Anaconda, Jupyter Notebook and Numpy are also included. If you choose Miniconda, install jupyter notebook and numpy through console:\n",
    "\n",
    "```\n",
    "$ conda install jupyter notebook \n",
    "$ conda install numpy \n",
    "```\n",
    "\n",
    "Read [here](https://jupyter.readthedocs.io/en/latest/running.html#running) how to run the Jupyter Notebook. "
   ]
  },
  {
   "cell_type": "markdown",
   "metadata": {},
   "source": [
    "## Exercise 1: Arithmetic Operators"
   ]
  },
  {
   "cell_type": "markdown",
   "metadata": {},
   "source": [
    "a) Multiply 5 and 5."
   ]
  },
  {
   "cell_type": "code",
   "execution_count": null,
   "metadata": {
    "ExecuteTime": {
     "end_time": "2020-11-11T17:57:22.686220Z",
     "start_time": "2020-11-11T17:57:22.678527Z"
    }
   },
   "outputs": [],
   "source": []
  },
  {
   "cell_type": "markdown",
   "metadata": {},
   "source": [
    "b) Multiply 5 by 5, by 5 again, and another 3 times."
   ]
  },
  {
   "cell_type": "code",
   "execution_count": null,
   "metadata": {
    "ExecuteTime": {
     "end_time": "2020-11-11T17:57:22.701761Z",
     "start_time": "2020-11-11T17:57:22.695354Z"
    }
   },
   "outputs": [],
   "source": []
  },
  {
   "cell_type": "markdown",
   "metadata": {},
   "source": [
    "c) What would be an easier way of getting to this answer?"
   ]
  },
  {
   "cell_type": "code",
   "execution_count": null,
   "metadata": {
    "ExecuteTime": {
     "end_time": "2020-11-11T17:57:22.711858Z",
     "start_time": "2020-11-11T17:57:22.705778Z"
    }
   },
   "outputs": [],
   "source": []
  },
  {
   "cell_type": "markdown",
   "metadata": {},
   "source": [
    "d) Add 1 and 5, and multiply the result by 9."
   ]
  },
  {
   "cell_type": "code",
   "execution_count": null,
   "metadata": {
    "ExecuteTime": {
     "end_time": "2020-11-11T17:57:22.726666Z",
     "start_time": "2020-11-11T17:57:22.718862Z"
    }
   },
   "outputs": [],
   "source": []
  },
  {
   "cell_type": "markdown",
   "metadata": {
    "ExecuteTime": {
     "end_time": "2020-11-10T12:01:44.102630Z",
     "start_time": "2020-11-10T12:01:44.097454Z"
    }
   },
   "source": [
    "e) Multiply 9 and 5, add 1."
   ]
  },
  {
   "cell_type": "code",
   "execution_count": null,
   "metadata": {
    "ExecuteTime": {
     "end_time": "2020-11-11T17:57:22.742533Z",
     "start_time": "2020-11-11T17:57:22.733950Z"
    }
   },
   "outputs": [],
   "source": []
  },
  {
   "cell_type": "markdown",
   "metadata": {},
   "source": [
    "f) Why are d) & e) different?"
   ]
  },
  {
   "cell_type": "markdown",
   "metadata": {},
   "source": [
    "## Exercise 2: Variables\n",
    "\n",
    "a) Assign variable `x` to be 10 and variable `y` to be 11."
   ]
  },
  {
   "cell_type": "code",
   "execution_count": null,
   "metadata": {
    "ExecuteTime": {
     "end_time": "2020-11-11T17:57:22.753877Z",
     "start_time": "2020-11-11T17:57:22.748394Z"
    }
   },
   "outputs": [],
   "source": []
  },
  {
   "cell_type": "markdown",
   "metadata": {},
   "source": [
    "b) Multiply `x` and `y` and assign it to a new variable called `z`."
   ]
  },
  {
   "cell_type": "code",
   "execution_count": null,
   "metadata": {
    "ExecuteTime": {
     "end_time": "2020-11-11T17:57:22.764762Z",
     "start_time": "2020-11-11T17:57:22.758691Z"
    }
   },
   "outputs": [],
   "source": []
  },
  {
   "cell_type": "markdown",
   "metadata": {},
   "source": [
    "c) Assign the value of `z` times 4 to variable `x`."
   ]
  },
  {
   "cell_type": "code",
   "execution_count": null,
   "metadata": {
    "ExecuteTime": {
     "end_time": "2020-11-11T17:57:22.774475Z",
     "start_time": "2020-11-11T17:57:22.768205Z"
    }
   },
   "outputs": [],
   "source": []
  },
  {
   "cell_type": "markdown",
   "metadata": {
    "ExecuteTime": {
     "end_time": "2020-11-10T12:10:30.485077Z",
     "start_time": "2020-11-10T12:10:30.473915Z"
    }
   },
   "source": [
    "d) What has happened to `x`?"
   ]
  },
  {
   "cell_type": "markdown",
   "metadata": {},
   "source": [
    "e) What about `z`?"
   ]
  },
  {
   "cell_type": "markdown",
   "metadata": {},
   "source": [
    "f) Assign 300 to a new variable called `True`."
   ]
  },
  {
   "cell_type": "code",
   "execution_count": null,
   "metadata": {
    "ExecuteTime": {
     "end_time": "2020-11-11T17:57:22.785991Z",
     "start_time": "2020-11-11T17:57:22.778104Z"
    }
   },
   "outputs": [],
   "source": []
  },
  {
   "cell_type": "markdown",
   "metadata": {},
   "source": [
    "g) Why does this not work?"
   ]
  },
  {
   "cell_type": "markdown",
   "metadata": {
    "ExecuteTime": {
     "end_time": "2020-11-11T17:29:43.140399Z",
     "start_time": "2020-11-11T17:29:43.123511Z"
    }
   },
   "source": [
    "h) To free memory, we can also delete variables. Delete the variable `z`."
   ]
  },
  {
   "cell_type": "code",
   "execution_count": null,
   "metadata": {
    "ExecuteTime": {
     "end_time": "2020-11-11T17:57:29.813243Z",
     "start_time": "2020-11-11T17:57:29.809685Z"
    }
   },
   "outputs": [],
   "source": []
  },
  {
   "cell_type": "markdown",
   "metadata": {
    "ExecuteTime": {
     "end_time": "2020-11-10T15:37:30.616290Z",
     "start_time": "2020-11-10T15:37:30.515Z"
    }
   },
   "source": [
    "i) After creating a variable in Python, we can change its value like we did in c). What will be printed in the below?"
   ]
  },
  {
   "cell_type": "code",
   "execution_count": null,
   "metadata": {
    "ExecuteTime": {
     "end_time": "2020-11-11T17:57:30.112376Z",
     "start_time": "2020-11-11T17:57:30.108332Z"
    }
   },
   "outputs": [],
   "source": [
    "a = 0\n",
    "x = a\n",
    "a = 2\n",
    "print(x)"
   ]
  },
  {
   "cell_type": "markdown",
   "metadata": {},
   "source": [
    "j) What will be printed in the code below?"
   ]
  },
  {
   "cell_type": "code",
   "execution_count": null,
   "metadata": {
    "ExecuteTime": {
     "end_time": "2020-11-11T17:57:30.522954Z",
     "start_time": "2020-11-11T17:57:30.518100Z"
    }
   },
   "outputs": [],
   "source": [
    "b = [1,2,3]\n",
    "x = b\n",
    "b[2] = 4\n",
    "print(x)"
   ]
  },
  {
   "cell_type": "markdown",
   "metadata": {},
   "source": [
    "## Exercise 3: Lists\n",
    "\n",
    "a) How many elements does `x` have?"
   ]
  },
  {
   "cell_type": "code",
   "execution_count": null,
   "metadata": {
    "ExecuteTime": {
     "end_time": "2020-11-11T17:57:31.604767Z",
     "start_time": "2020-11-11T17:57:31.597523Z"
    }
   },
   "outputs": [],
   "source": [
    "x = [6, 8, 9, 5, 7]\n"
   ]
  },
  {
   "cell_type": "markdown",
   "metadata": {
    "ExecuteTime": {
     "end_time": "2020-11-10T12:20:15.370069Z",
     "start_time": "2020-11-10T12:20:15.365207Z"
    }
   },
   "source": [
    "b) Access and show the second element of the list `x`."
   ]
  },
  {
   "cell_type": "code",
   "execution_count": null,
   "metadata": {
    "ExecuteTime": {
     "end_time": "2020-11-11T17:57:33.391523Z",
     "start_time": "2020-11-11T17:57:33.386685Z"
    }
   },
   "outputs": [],
   "source": []
  },
  {
   "cell_type": "markdown",
   "metadata": {
    "ExecuteTime": {
     "end_time": "2020-11-10T12:20:37.472885Z",
     "start_time": "2020-11-10T12:20:37.466811Z"
    }
   },
   "source": [
    "c) Access and show the second, third and fourth elements of the list `x`."
   ]
  },
  {
   "cell_type": "code",
   "execution_count": null,
   "metadata": {
    "ExecuteTime": {
     "end_time": "2020-11-11T17:57:34.551535Z",
     "start_time": "2020-11-11T17:57:34.545342Z"
    }
   },
   "outputs": [],
   "source": []
  },
  {
   "cell_type": "markdown",
   "metadata": {},
   "source": [
    "e) Access and show the last element of `x`."
   ]
  },
  {
   "cell_type": "code",
   "execution_count": null,
   "metadata": {
    "ExecuteTime": {
     "end_time": "2020-11-11T17:57:35.113351Z",
     "start_time": "2020-11-11T17:57:35.107870Z"
    }
   },
   "outputs": [],
   "source": []
  },
  {
   "cell_type": "markdown",
   "metadata": {},
   "source": [
    "f) Change the value 5 and make it an 8. Note that `x` must be updated."
   ]
  },
  {
   "cell_type": "code",
   "execution_count": null,
   "metadata": {
    "ExecuteTime": {
     "end_time": "2020-11-11T17:57:35.680310Z",
     "start_time": "2020-11-11T17:57:35.669901Z"
    }
   },
   "outputs": [],
   "source": []
  },
  {
   "cell_type": "markdown",
   "metadata": {},
   "source": [
    "g) Create a list with your name and your age."
   ]
  },
  {
   "cell_type": "code",
   "execution_count": null,
   "metadata": {
    "ExecuteTime": {
     "end_time": "2020-11-11T17:57:36.408022Z",
     "start_time": "2020-11-11T17:57:36.401947Z"
    }
   },
   "outputs": [],
   "source": []
  },
  {
   "cell_type": "markdown",
   "metadata": {},
   "source": [
    "## Exercise 4: Other Operators\n",
    "\n",
    "a) Check whether 2 is equal to 2 using an operator"
   ]
  },
  {
   "cell_type": "code",
   "execution_count": null,
   "metadata": {
    "ExecuteTime": {
     "end_time": "2020-11-11T17:57:37.814496Z",
     "start_time": "2020-11-11T17:57:37.808475Z"
    }
   },
   "outputs": [],
   "source": []
  },
  {
   "cell_type": "markdown",
   "metadata": {},
   "source": [
    "b) Create a variable `x` with value 10, and check whether it is greater than or equal to 43 using an operator."
   ]
  },
  {
   "cell_type": "code",
   "execution_count": null,
   "metadata": {
    "ExecuteTime": {
     "end_time": "2020-11-11T17:57:38.096386Z",
     "start_time": "2020-11-11T17:57:38.089406Z"
    }
   },
   "outputs": [],
   "source": []
  },
  {
   "cell_type": "markdown",
   "metadata": {},
   "source": [
    "c) Check whether `x` is between 5 and 15."
   ]
  },
  {
   "cell_type": "code",
   "execution_count": null,
   "metadata": {},
   "outputs": [],
   "source": []
  },
  {
   "cell_type": "markdown",
   "metadata": {},
   "source": [
    "e) Create a list `y` with numbers 1, 6, 8, 12, and 10. Is the value of `x` contained in `y`?"
   ]
  },
  {
   "cell_type": "code",
   "execution_count": null,
   "metadata": {
    "ExecuteTime": {
     "end_time": "2020-11-11T17:58:12.364973Z",
     "start_time": "2020-11-11T17:58:12.357994Z"
    }
   },
   "outputs": [],
   "source": []
  },
  {
   "cell_type": "markdown",
   "metadata": {},
   "source": [
    "## Exercise 5: Data Types\n",
    "\n",
    "a) If `x = 5`, what is the type of `x`?"
   ]
  },
  {
   "cell_type": "code",
   "execution_count": null,
   "metadata": {
    "ExecuteTime": {
     "end_time": "2020-11-10T15:37:30.644708Z",
     "start_time": "2020-11-10T15:37:30.591Z"
    }
   },
   "outputs": [],
   "source": []
  },
  {
   "cell_type": "markdown",
   "metadata": {},
   "source": [
    "b) If `y = \"hello\"`, what is the type of `y`?"
   ]
  },
  {
   "cell_type": "code",
   "execution_count": null,
   "metadata": {
    "ExecuteTime": {
     "end_time": "2020-11-10T15:37:30.647526Z",
     "start_time": "2020-11-10T15:37:30.596Z"
    }
   },
   "outputs": [],
   "source": []
  },
  {
   "cell_type": "markdown",
   "metadata": {},
   "source": [
    "c) What is the type of `x <= 10`?"
   ]
  },
  {
   "cell_type": "code",
   "execution_count": null,
   "metadata": {
    "ExecuteTime": {
     "end_time": "2020-11-10T15:37:30.762895Z",
     "start_time": "2020-11-10T15:37:30.751952Z"
    }
   },
   "outputs": [],
   "source": []
  },
  {
   "cell_type": "markdown",
   "metadata": {},
   "source": [
    "d) How can we encode a missing observation in a list (eg. the subject did not tell us the province where they reside)."
   ]
  },
  {
   "cell_type": "code",
   "execution_count": null,
   "metadata": {
    "ExecuteTime": {
     "end_time": "2020-11-10T15:38:06.455745Z",
     "start_time": "2020-11-10T15:38:06.450215Z"
    },
    "scrolled": true
   },
   "outputs": [],
   "source": []
  },
  {
   "cell_type": "markdown",
   "metadata": {},
   "source": [
    "## Exercise 6: Iteration and Functions\n",
    "\n",
    "a) Use a loop to increment each element of `z` by one and print the result."
   ]
  },
  {
   "cell_type": "code",
   "execution_count": null,
   "metadata": {
    "ExecuteTime": {
     "end_time": "2020-11-11T17:53:00.905329Z",
     "start_time": "2020-11-11T17:53:00.898774Z"
    }
   },
   "outputs": [],
   "source": [
    "z = [2,5,8,9]\n"
   ]
  },
  {
   "cell_type": "markdown",
   "metadata": {},
   "source": [
    "b) Use `enumerate` to print each element of `z` and its index."
   ]
  },
  {
   "cell_type": "code",
   "execution_count": null,
   "metadata": {
    "ExecuteTime": {
     "end_time": "2020-11-11T17:54:39.377352Z",
     "start_time": "2020-11-11T17:54:39.370241Z"
    }
   },
   "outputs": [],
   "source": []
  },
  {
   "cell_type": "markdown",
   "metadata": {},
   "source": [
    "c) Write a function called `times` that receives a list and a number, and returns the same list multiplied by said number. Try it out with `times([2,4,7], 2)`."
   ]
  },
  {
   "cell_type": "code",
   "execution_count": null,
   "metadata": {
    "ExecuteTime": {
     "end_time": "2020-11-10T15:38:07.195157Z",
     "start_time": "2020-11-10T15:38:07.191680Z"
    }
   },
   "outputs": [],
   "source": []
  },
  {
   "cell_type": "markdown",
   "metadata": {},
   "source": [
    "d) Write a function called `min_even` that receives a list and returns the smallest even number found in it (we can know if a number `x` is even with `x % 2 == 0`). Try it out with `min_even([9,6,11,4,8])`. What happens if there is no even number in the list?"
   ]
  },
  {
   "cell_type": "code",
   "execution_count": null,
   "metadata": {},
   "outputs": [],
   "source": []
  }
 ],
 "metadata": {
  "kernelspec": {
   "display_name": "Python 3",
   "language": "python",
   "name": "python3"
  },
  "language_info": {
   "codemirror_mode": {
    "name": "ipython",
    "version": 3
   },
   "file_extension": ".py",
   "mimetype": "text/x-python",
   "name": "python",
   "nbconvert_exporter": "python",
   "pygments_lexer": "ipython3",
   "version": "3.8.3"
  },
  "toc": {
   "base_numbering": 1,
   "nav_menu": {},
   "number_sections": true,
   "sideBar": true,
   "skip_h1_title": false,
   "title_cell": "Table of Contents",
   "title_sidebar": "Contents",
   "toc_cell": true,
   "toc_position": {},
   "toc_section_display": true,
   "toc_window_display": true
  },
  "varInspector": {
   "cols": {
    "lenName": 16,
    "lenType": 16,
    "lenVar": 40
   },
   "kernels_config": {
    "python": {
     "delete_cmd_postfix": "",
     "delete_cmd_prefix": "del ",
     "library": "var_list.py",
     "varRefreshCmd": "print(var_dic_list())"
    },
    "r": {
     "delete_cmd_postfix": ") ",
     "delete_cmd_prefix": "rm(",
     "library": "var_list.r",
     "varRefreshCmd": "cat(var_dic_list()) "
    }
   },
   "types_to_exclude": [
    "module",
    "function",
    "builtin_function_or_method",
    "instance",
    "_Feature"
   ],
   "window_display": false
  }
 },
 "nbformat": 4,
 "nbformat_minor": 2
}
